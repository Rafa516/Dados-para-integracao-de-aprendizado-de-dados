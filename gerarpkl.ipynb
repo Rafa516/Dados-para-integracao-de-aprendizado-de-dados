{
  "nbformat": 4,
  "nbformat_minor": 0,
  "metadata": {
    "colab": {
      "provenance": [],
      "authorship_tag": "ABX9TyNP8XA0m5LdXqPh+iK6Mejd",
      "include_colab_link": true
    },
    "kernelspec": {
      "name": "python3",
      "display_name": "Python 3"
    },
    "language_info": {
      "name": "python"
    }
  },
  "cells": [
    {
      "cell_type": "markdown",
      "metadata": {
        "id": "view-in-github",
        "colab_type": "text"
      },
      "source": [
        "<a href=\"https://colab.research.google.com/github/Rafa516/Dados-para-integracao-de-aprendizado-de-maquina/blob/main/gerarpkl.ipynb\" target=\"_parent\"><img src=\"https://colab.research.google.com/assets/colab-badge.svg\" alt=\"Open In Colab\"/></a>"
      ]
    },
    {
      "cell_type": "code",
      "execution_count": 1,
      "metadata": {
        "colab": {
          "base_uri": "https://localhost:8080/"
        },
        "id": "rA5eFXFZNPAK",
        "outputId": "d26775f7-7f31-49e8-87ef-a837eb342ea8"
      },
      "outputs": [
        {
          "output_type": "stream",
          "name": "stdout",
          "text": [
            "Modelo salvo como 'modelo_evasao_escolar.pkl'\n"
          ]
        }
      ],
      "source": [
        "import joblib\n",
        "from sklearn.ensemble import RandomForestClassifier\n",
        "import pandas as pd\n",
        "\n",
        "# Exemplo de dados\n",
        "data = pd.DataFrame({\n",
        "    'idade': [12, 15, 10, 14, 16],\n",
        "    'frequencia': [85, 70, 95, 80, 60],\n",
        "    'nota_media': [7.5, 6.0, 8.5, 7.0, 5.5],\n",
        "    'situacao_socioeconomica': ['baixa', 'media', 'alta', 'baixa', 'media'],\n",
        "    'distancia_escola': [10, 5, 2, 8, 15],\n",
        "    'evasao': [0, 1, 0, 0, 1]\n",
        "})\n",
        "\n",
        "# Codificar variáveis categóricas\n",
        "X = pd.get_dummies(data.drop('evasao', axis=1), columns=['situacao_socioeconomica'], drop_first=True)\n",
        "y = data['evasao']\n",
        "\n",
        "# Treinar o modelo\n",
        "model = RandomForestClassifier(random_state=42)\n",
        "model.fit(X, y)\n",
        "\n",
        "# Salvar o modelo\n",
        "joblib.dump(model, 'modelo_evasao_escolar.pkl')\n",
        "print(\"Modelo salvo como 'modelo_evasao_escolar.pkl'\")"
      ]
    }
  ]
}