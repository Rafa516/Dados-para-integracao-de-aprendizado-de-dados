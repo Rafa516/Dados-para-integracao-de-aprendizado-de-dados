{
  "cells": [
    {
      "cell_type": "markdown",
      "metadata": {
        "id": "view-in-github",
        "colab_type": "text"
      },
      "source": [
        "<a href=\"https://colab.research.google.com/github/Rafa516/Dados-para-integracao-de-aprendizado-de-maquina/blob/main/massa%20de%20dados.ipynb\" target=\"_parent\"><img src=\"https://colab.research.google.com/assets/colab-badge.svg\" alt=\"Open In Colab\"/></a>"
      ]
    },
    {
      "cell_type": "code",
      "source": [
        "import pandas as pd\n",
        "import numpy as np\n",
        "\n",
        "# Configuração para gerar dados sintéticos\n",
        "np.random.seed(42)  # Para reproducibilidade\n",
        "n_samples = 100000  # Número de estudantes (100 mil)\n",
        "\n",
        "# Gerar dados sintéticos\n",
        "data = pd.DataFrame({\n",
        "    'idade': np.random.randint(6, 18, size=n_samples),  # Idade entre 6 e 17 anos\n",
        "    'frequencia': np.random.randint(50, 100, size=n_samples),  # Frequência entre 50% e 100%\n",
        "    'nota_media': np.round(np.random.uniform(4.0, 10.0, size=n_samples), 1),  # Nota média entre 4.0 e 10.0\n",
        "    'situacao_socioeconomica': np.random.choice(['baixa', 'media', 'alta'], size=n_samples, p=[0.5, 0.3, 0.2]),  # Situação socioeconômica\n",
        "    'distancia_escola': np.random.randint(1, 20, size=n_samples),  # Distância da escola em km\n",
        "    'evasao': np.random.choice([0, 1], size=n_samples, p=[0.85, 0.15])  # 15% de evasão\n",
        "})\n",
        "\n",
        "# Salvar os dados em um arquivo CSV\n",
        "data.to_csv('dados_estudantes_grande.csv', index=False)\n",
        "\n",
        "print(\"Arquivo 'dados_estudantes_grande.csv' gerado com sucesso!\")"
      ],
      "metadata": {
        "id": "unyHtiBgh_LI",
        "outputId": "f9b332a6-8384-4af5-b02b-b417ceb1ddd0",
        "colab": {
          "base_uri": "https://localhost:8080/"
        }
      },
      "execution_count": 2,
      "outputs": [
        {
          "output_type": "stream",
          "name": "stdout",
          "text": [
            "Arquivo 'dados_estudantes_grande.csv' gerado com sucesso!\n"
          ]
        }
      ]
    }
  ],
  "metadata": {
    "colab": {
      "name": "Olá, este é o Colaboratory",
      "toc_visible": true,
      "provenance": [],
      "include_colab_link": true
    },
    "kernelspec": {
      "display_name": "Python 3",
      "name": "python3"
    }
  },
  "nbformat": 4,
  "nbformat_minor": 0
}